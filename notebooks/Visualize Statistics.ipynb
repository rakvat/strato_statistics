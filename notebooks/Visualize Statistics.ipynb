{
 "cells": [
  {
   "cell_type": "code",
   "execution_count": null,
   "metadata": {},
   "outputs": [],
   "source": [
    "import pandas as pd"
   ]
  },
  {
   "cell_type": "code",
   "execution_count": null,
   "metadata": {},
   "outputs": [],
   "source": [
    "df = pd.read_csv('../data/all.csv')\n",
    "df.head()"
   ]
  },
  {
   "cell_type": "code",
   "execution_count": null,
   "metadata": {},
   "outputs": [],
   "source": [
    "df['count'].max()"
   ]
  },
  {
   "cell_type": "code",
   "execution_count": null,
   "metadata": {},
   "outputs": [],
   "source": [
    "import matplotlib.pyplot as plt\n",
    "%matplotlib notebook"
   ]
  },
  {
   "cell_type": "code",
   "execution_count": null,
   "metadata": {},
   "outputs": [],
   "source": [
    "df = df.sort_values(by=['month', 'count'], ascending=[True, False])\n",
    "df = df.reset_index(drop=True)\n",
    "df.head()"
   ]
  },
  {
   "cell_type": "code",
   "execution_count": null,
   "metadata": {},
   "outputs": [],
   "source": [
    "df.plot()"
   ]
  },
  {
   "cell_type": "code",
   "execution_count": null,
   "metadata": {},
   "outputs": [],
   "source": [
    "sums = df.groupby(by = ['month']).sum()\n",
    "sums.head(20)"
   ]
  },
  {
   "cell_type": "code",
   "execution_count": null,
   "metadata": {},
   "outputs": [],
   "source": [
    "sums.plot()"
   ]
  },
  {
   "cell_type": "code",
   "execution_count": null,
   "metadata": {},
   "outputs": [],
   "source": [
    "main_url = df[df['url'] == 'http://www.transform-social.org/']\n",
    "sums = main_url.groupby(by = ['month']).sum()\n",
    "sums.head()"
   ]
  },
  {
   "cell_type": "code",
   "execution_count": null,
   "metadata": {},
   "outputs": [],
   "source": [
    "sums.plot()"
   ]
  },
  {
   "cell_type": "code",
   "execution_count": null,
   "metadata": {},
   "outputs": [],
   "source": [
    "grouped = df.groupby(by = ['url']).sum().sort_values(by = ['count'], ascending = [False])\n",
    "grouped = grouped.reset_index(drop=False)\n",
    "grouped.plot()\n",
    "grouped.head()"
   ]
  },
  {
   "cell_type": "code",
   "execution_count": null,
   "metadata": {},
   "outputs": [],
   "source": [
    "grouped = df.groupby(by = ['url']).sum().sort_values(by = ['count'], ascending = [False])\n",
    "grouped = grouped.reset_index(drop=False)\n",
    "x = grouped['url'].index.values\n",
    "y = grouped['count'].values\n",
    "xticks = map(lambda x: x.replace('http://www.transform-social.org', ''), grouped['url'].values)\n",
    "plt.figure(10)\n",
    "plt.xticks(x, xticks, rotation=270)\n",
    "plt.subplots_adjust(bottom=0.3)\n",
    "plt.tick_params(labelsize=6)\n",
    "plt.plot(x,y)\n",
    "plt.show()"
   ]
  },
  {
   "cell_type": "code",
   "execution_count": null,
   "metadata": {},
   "outputs": [],
   "source": [
    "grouped = df[df['url'].str.startswith('http://www.transform-social.org/texte')].groupby(by = ['url']).sum().sort_values(by = ['count'], ascending = [False])\n",
    "grouped = grouped.reset_index(drop=False)\n",
    "x = grouped['url'].index.values\n",
    "y = grouped['count'].values\n",
    "xticks = map(lambda x: x.replace('http://www.transform-social.org', ''), grouped['url'].values)\n",
    "plt.figure(11)\n",
    "plt.xticks(x, xticks, rotation=270)\n",
    "plt.subplots_adjust(bottom=0.3)\n",
    "plt.tick_params(labelsize=6)\n",
    "plt.plot(x,y)\n",
    "plt.show()"
   ]
  },
  {
   "cell_type": "code",
   "execution_count": null,
   "metadata": {},
   "outputs": [],
   "source": [
    "# reset defaults\n",
    "%matplotlib notebook \n",
    "\n",
    "data = df[df['url'].str.startswith('http://www.transform-social.org/texte') & ~df['url'].str.contains('\\.\\.')]\n",
    "urls = list(set(data['url'].tolist())) # uniq urls\n",
    "urls.sort()\n",
    "plt.figure(11)\n",
    "\n",
    "for url in urls:\n",
    "    subdata = data[data['url'].str.endswith(url)].sort_values(by=['month']).reset_index(drop = False)\n",
    "    x = subdata['month'].values\n",
    "    y = subdata['count'].values\n",
    "    plt.plot(x,y)\n",
    "    \n",
    "legend = list(map(lambda x: x.replace('http://www.transform-social.org', ''), urls))\n",
    "plt.legend(legend, bbox_to_anchor=(1.02, 1), loc=2, borderaxespad=0., fontsize=6)\n",
    "plt.tick_params(labelsize=6)\n",
    "plt.subplots_adjust(right=0.75)\n",
    "plt.show()"
   ]
  },
  {
   "cell_type": "code",
   "execution_count": null,
   "metadata": {},
   "outputs": [],
   "source": []
  }
 ],
 "metadata": {
  "kernelspec": {
   "display_name": "Python 3",
   "language": "python",
   "name": "python3"
  },
  "language_info": {
   "codemirror_mode": {
    "name": "ipython",
    "version": 3
   },
   "file_extension": ".py",
   "mimetype": "text/x-python",
   "name": "python",
   "nbconvert_exporter": "python",
   "pygments_lexer": "ipython3",
   "version": "3.5.2"
  }
 },
 "nbformat": 4,
 "nbformat_minor": 2
}
